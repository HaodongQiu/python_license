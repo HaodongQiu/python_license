{
  "nbformat": 4,
  "nbformat_minor": 0,
  "metadata": {
    "colab": {
      "provenance": [],
      "authorship_tag": "ABX9TyO89iDIYWWyRppmYiGbLrHU",
      "include_colab_link": true
    },
    "kernelspec": {
      "name": "python3",
      "display_name": "Python 3"
    },
    "language_info": {
      "name": "python"
    }
  },
  "cells": [
    {
      "cell_type": "markdown",
      "metadata": {
        "id": "view-in-github",
        "colab_type": "text"
      },
      "source": [
        "<a href=\"https://colab.research.google.com/github/HaodongQiu/python_license/blob/main/python_license_1.ipynb\" target=\"_parent\"><img src=\"https://colab.research.google.com/assets/colab-badge.svg\" alt=\"Open In Colab\"/></a>"
      ]
    },
    {
      "cell_type": "code",
      "source": [
        "def convert(s):\n",
        "  K=float(s)\n",
        "  F=1.8*(K-273.15)+32\n",
        "  return F"
      ],
      "metadata": {
        "id": "MdtN47HqVV-0"
      },
      "execution_count": 4,
      "outputs": []
    },
    {
      "cell_type": "code",
      "source": [
        "s=input(\"enter temparature of K:\")\n",
        "convert(s)\n",
        "print(F)"
      ],
      "metadata": {
        "colab": {
          "base_uri": "https://localhost:8080/"
        },
        "id": "sX8179MOXmGW",
        "outputId": "a2c837b7-1cd2-45a4-8cf9-9e1c33f52d12"
      },
      "execution_count": 7,
      "outputs": [
        {
          "output_type": "stream",
          "name": "stdout",
          "text": [
            "enter temparature of K:98\n",
            "56.0\n"
          ]
        }
      ]
    },
    {
      "cell_type": "code",
      "source": [
        "def vanderwaal(P,V,n,a=2.45e-2,b=26.61e-6):\n",
        "  R=8.314\n",
        "  T=(P+a*(n/V)**2)*(V-n*b)/(R*n)\n",
        "  return T"
      ],
      "metadata": {
        "id": "UpYgt9nzX2sW"
      },
      "execution_count": 8,
      "outputs": []
    },
    {
      "cell_type": "code",
      "source": [
        "def vanderwaal2(T,V,n,a=2.45e-2,b=26.61e-6):\n",
        "  R=8.314\n",
        "  P=T*R*n/(V-n*b)-a*(n/V)**2\n",
        "  return P"
      ],
      "metadata": {
        "id": "ZZXIGJqcfBYd"
      },
      "execution_count": 9,
      "outputs": []
    },
    {
      "cell_type": "code",
      "source": [
        "print(vanderwaal2(273,0.022,1))\n"
      ],
      "metadata": {
        "colab": {
          "base_uri": "https://localhost:8080/"
        },
        "id": "vfNoz1IahX4E",
        "outputId": "c87b63ff-3940-49cf-bf26-d4a503972eeb"
      },
      "execution_count": 17,
      "outputs": [
        {
          "output_type": "stream",
          "name": "stdout",
          "text": [
            "103243.50091770844\n"
          ]
        }
      ]
    },
    {
      "cell_type": "code",
      "source": [],
      "metadata": {
        "id": "jOujBhtMiNUq"
      },
      "execution_count": null,
      "outputs": []
    }
  ]
}